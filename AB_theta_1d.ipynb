{
 "cells": [
  {
   "cell_type": "code",
   "execution_count": 6,
   "metadata": {},
   "outputs": [],
   "source": [
    "import numpy as np\n",
    "import matplotlib.pyplot as plt"
   ]
  },
  {
   "cell_type": "code",
   "execution_count": 9,
   "metadata": {},
   "outputs": [],
   "source": [
    "coef = np.array([-8.5,7.05,-0.02])  # This is the unnormalized coeffeicients of theta/2+0.2 for 100*CTR "
   ]
  },
  {
   "cell_type": "code",
   "execution_count": 10,
   "metadata": {},
   "outputs": [],
   "source": [
    "theta_star = (-coef[1]/(2*coef[0])-0.2)*2\n",
    "tmp_star = theta_star/2+0.2\n",
    "mu_star = (coef[0]*tmp_star**2+coef[1]*tmp_star+coef[2])/100\n",
    "v_star = mu_star*(1-mu_star)\n",
    "\n",
    "def treat_outcome(theta,M): #average outcome of M samples at theta\n",
    "    tmp = theta/2+0.2\n",
    "    prob = (coef[0]*tmp**2+coef[1]*tmp+coef[2])/100\n",
    "    res = np.sum(np.random.binomial(size=M,n=1,p=prob))/M\n",
    "    return res"
   ]
  },
  {
   "cell_type": "code",
   "execution_count": 11,
   "metadata": {},
   "outputs": [
    {
     "name": "stdout",
     "output_type": "stream",
     "text": [
      "0.027399999999999994 0.17341755737773681\n"
     ]
    }
   ],
   "source": [
    "grad_est_right = abs((treat_outcome(1,100000)-treat_outcome(0.95,100000))*20)\n",
    "grad_est_left = abs((treat_outcome(0,100000)-treat_outcome(0.05,100000))*20)\n",
    "grad_est_max = max(grad_est_right,grad_est_left)\n",
    "rho = -np.log(grad_est_max)/np.log(1.02e9)\n",
    "print(grad_est_max,rho) \n",
    "#estimate rho, if needed"
   ]
  },
  {
   "cell_type": "code",
   "execution_count": 42,
   "metadata": {},
   "outputs": [],
   "source": [
    "def zeroth_order_opt(total_iter,M,rho,stepsize_cons): #M = m/10 in paper.\n",
    "    sum_of_outcome = 0\n",
    "    theta = 0.5\n",
    "    theta_list = []\n",
    "    value_est = np.zeros((total_iter))\n",
    "    for t in range(total_iter):\n",
    "        c = (t+1)**(-1/5)\n",
    "        c = min(min(c,theta),1-theta)/3\n",
    "        theta_plus_1 = theta+c\n",
    "        theta_minus_1 = theta-c\n",
    "        theta_plus_2 = theta+3*c\n",
    "        theta_minus_2 = theta-3*c\n",
    "        mu_tmp_1 = treat_outcome(theta_plus_1,9*M)\n",
    "        mu_tmp_0 = treat_outcome(theta_minus_1,9*M)\n",
    "        mu_tmp_3 = treat_outcome(theta_plus_2,M)\n",
    "        mu_tmp_2 = treat_outcome(theta_minus_2,M)\n",
    "        #switch between central FD method and Algorithm 1\n",
    "\n",
    "        #svalue_est[t] = (mu_tmp_1+mu_tmp_0)/2\n",
    "        value_est[t] = 9*(mu_tmp_1+mu_tmp_0)/16-(mu_tmp_3+mu_tmp_2)/16 \n",
    "        sum_of_outcome += value_est[t]\n",
    "        grad_est = (-mu_tmp_3+mu_tmp_2+27*mu_tmp_1-27*mu_tmp_0)/(48*c)\n",
    "        #grad_est = (mu_tmp_1-mu_tmp_0)/(2*c)\n",
    "        theta = theta+grad_est*stepsize_cons/((t+1)**(1-rho))\n",
    "        theta = min(max(theta,0.05),0.95)\n",
    "        theta_list.append(theta)\n",
    "        \n",
    "    return sum_of_outcome,theta,value_est,theta_list"
   ]
  },
  {
   "cell_type": "code",
   "execution_count": 43,
   "metadata": {},
   "outputs": [],
   "source": [
    "T = 100000\n",
    "M = 20\n",
    "tot_sample = T*M*20 #20 should be 2 if you are using FDC"
   ]
  },
  {
   "cell_type": "code",
   "execution_count": null,
   "metadata": {},
   "outputs": [],
   "source": [
    "clt_iter = 1000  #replications\n",
    "clt_res = np.zeros((clt_iter))\n",
    "theta_ave = 0\n",
    "mu_ave = 0\n",
    "for i in range(clt_iter):\n",
    "    sum_of_outcome,theta_hat,value_est,theta_list = zeroth_order_opt(T,M,0,30)\n",
    "    theta_list = np.array(theta_list)\n",
    "    for t in range(int(0.1*T)):\n",
    "        theta_ave += theta_list[T-1-t]\n",
    "    theta_ave = theta_ave/(int(0.1*T))\n",
    "    tmp = theta_ave/2+0.2\n",
    "    mu_ave = (coef[0]*tmp**2+coef[1]*tmp+coef[2])/100\n",
    "    v_ave = mu_ave*(1-mu_ave)\n",
    "    clt_res[i] = np.sqrt(tot_sample)*(sum_of_outcome/T-mu_ave)/(5/4*np.sqrt(v_ave))"
   ]
  },
  {
   "cell_type": "code",
   "execution_count": 23,
   "metadata": {},
   "outputs": [],
   "source": [
    "from scipy.optimize import curve_fit\n",
    "def gaussian(x, mean, amplitude, standard_deviation):\n",
    "    return amplitude * np.exp( - (x - mean)**2 / (2*standard_deviation ** 2))\n",
    "\n",
    "#remember to change the algorithm if you want results of FDC\n",
    "\n",
    "# plt.figure(dpi = 100)\n",
    "# bin_heights, bin_borders, _ = plt.hist(clt_res,range=(-7,3),bins=50, label='histogram',edgecolor='r',alpha=0.5)\n",
    "# bin_centers = bin_borders[:-1] + np.diff(bin_borders) / 2\n",
    "# popt, _ = curve_fit(gaussian, bin_centers, bin_heights, p0=[1., 0., 1.])\n",
    "\n",
    "# x_interval_for_fit = np.linspace(bin_borders[0], bin_borders[-1], 10000)\n",
    "# plt.plot(x_interval_for_fit, gaussian(x_interval_for_fit, *popt), label='fitted Gaussian curve')\n",
    "# plt.xlabel('Normalized value')\n",
    "# plt.ylabel('Frequency')\n",
    "# plt.title('Normalized results of FDC with 1000 replications')\n",
    "# plt.legend()\n",
    "# plt.savefig('fdc')"
   ]
  },
  {
   "cell_type": "code",
   "execution_count": null,
   "metadata": {},
   "outputs": [],
   "source": [
    "from scipy.optimize import curve_fit\n",
    "def gaussian(x, mean, amplitude, standard_deviation):\n",
    "    return amplitude * np.exp( - (x - mean)**2 / (2*standard_deviation ** 2))\n",
    "\n",
    "plt.figure(dpi = 100)\n",
    "bin_heights, bin_borders, _ = plt.hist(clt_res,range=(-5,5),bins=50, label='histogram',edgecolor='r',alpha=0.5)\n",
    "bin_centers = bin_borders[:-1] + np.diff(bin_borders) / 2\n",
    "popt, _ = curve_fit(gaussian, bin_centers, bin_heights, p0=[1., 0., 1.])\n",
    "\n",
    "x_interval_for_fit = np.linspace(bin_borders[0], bin_borders[-1], 10000)\n",
    "plt.plot(x_interval_for_fit, gaussian(x_interval_for_fit, *popt), label='fitted Gaussian curve')\n",
    "plt.xlabel('Normalized value')\n",
    "plt.ylabel('Frequency')\n",
    "plt.title('Normalized results of Algorithm 1 with 1000 replications')\n",
    "plt.legend()\n",
    "plt.savefig('za')"
   ]
  }
 ],
 "metadata": {
  "kernelspec": {
   "display_name": "Python 3",
   "language": "python",
   "name": "python3"
  },
  "language_info": {
   "codemirror_mode": {
    "name": "ipython",
    "version": 3
   },
   "file_extension": ".py",
   "mimetype": "text/x-python",
   "name": "python",
   "nbconvert_exporter": "python",
   "pygments_lexer": "ipython3",
   "version": "3.8.5"
  }
 },
 "nbformat": 4,
 "nbformat_minor": 4
}
